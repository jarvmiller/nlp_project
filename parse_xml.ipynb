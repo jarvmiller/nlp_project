{
 "cells": [
  {
   "cell_type": "code",
   "execution_count": 1,
   "metadata": {},
   "outputs": [],
   "source": [
    "from bs4 import BeautifulSoup\n",
    "import re\n",
    "import numpy as np\n",
    "import pandas as pd\n",
    "import time\n",
    "start = time.time()"
   ]
  },
  {
   "cell_type": "code",
   "execution_count": 2,
   "metadata": {},
   "outputs": [],
   "source": [
    "with open ('training/labels.tsv', 'r') as f:\n",
    "    txt = f.read()"
   ]
  },
  {
   "cell_type": "code",
   "execution_count": 3,
   "metadata": {},
   "outputs": [],
   "source": [
    "range_of_posts = re.findall('[0-9]{6}', txt)\n",
    "# txt"
   ]
  },
  {
   "cell_type": "code",
   "execution_count": 4,
   "metadata": {},
   "outputs": [],
   "source": [
    "post_filenames = [\"training/posts/post-{}.xml\".format(id) for id in range_of_posts]"
   ]
  },
  {
   "cell_type": "code",
   "execution_count": 5,
   "metadata": {},
   "outputs": [],
   "source": [
    "# post_filenames[0:10]"
   ]
  },
  {
   "cell_type": "code",
   "execution_count": null,
   "metadata": {},
   "outputs": [],
   "source": []
  },
  {
   "cell_type": "code",
   "execution_count": 6,
   "metadata": {},
   "outputs": [],
   "source": [
    "def return_elements(filename):\n",
    "    # get board name\n",
    "    with open(filename, 'r') as f:\n",
    "        txt = f.read()\n",
    "    soup = BeautifulSoup(txt, 'lxml')\n",
    "    message = soup.message\n",
    "    board_id = message.board_id.text\n",
    "    post_time = message.post_time.text\n",
    "    subject = message.subject.text\n",
    "    post_id = message.id.text\n",
    "    author_id = message.author.get('href').split('/')[-1]\n",
    "    root_id = message.root.get('href').split('/')[-1]\n",
    "    body_text, emoji_ids = parse_body(message) # what to get out of body\n",
    "    d = {}\n",
    "#     d[author_id] = \n",
    "    return [author_id, board_id, post_time, subject, post_id, root_id, body_text, emoji_ids]\n",
    "\n",
    "def parse_body(message):\n",
    "    counter = 0\n",
    "    for content in message.contents:\n",
    "        if content.name == 'last_edit_time':\n",
    "            break\n",
    "        counter += 1\n",
    "    body = message.contents[counter+1]\n",
    "    body_text = re.findall(\"[a-zA-Z0-9]+(?![^<]*\\>)\", body.string)\n",
    "    body_text = list(filter(lambda a: a != 'nbsp', body_text))\n",
    "    emojis = re.findall('id=\"[a-z]+\"', body.string)\n",
    "    emoji_ids = [emoji.split('\"')[1] for emoji in emojis]\n",
    "    if len(emoji_ids) == 0:\n",
    "        emoji_ids = None\n",
    "    return body_text, emoji_ids\n",
    "        "
   ]
  },
  {
   "cell_type": "code",
   "execution_count": 7,
   "metadata": {},
   "outputs": [],
   "source": [
    "list_of_parsings = [return_elements(filename) for filename in post_filenames]\n",
    "df = pd.DataFrame(list_of_parsings)\n",
    "df.columns = ['author_id', 'board_id', 'post_time', 'subject', 'post_id', 'root_id', 'body_text', 'emoji_ids']"
   ]
  },
  {
   "cell_type": "code",
   "execution_count": 8,
   "metadata": {},
   "outputs": [
    {
     "name": "stdout",
     "output_type": "stream",
     "text": [
      "4.163532733917236 seconds have passsed\n"
     ]
    }
   ],
   "source": [
    "df.head()\n",
    "end = time.time()\n",
    "# df.to_csv('training_df.csv')\n",
    "print('{} seconds have passsed'.format((end-start)))"
   ]
  },
  {
   "cell_type": "markdown",
   "metadata": {},
   "source": [
    "## making sure the body is parsed correctly\n"
   ]
  },
  {
   "cell_type": "code",
   "execution_count": 9,
   "metadata": {},
   "outputs": [],
   "source": [
    "with open(\"training/posts/post-135294.xml\") as f:\n",
    "    post = f.read()"
   ]
  },
  {
   "cell_type": "code",
   "execution_count": 10,
   "metadata": {},
   "outputs": [],
   "source": [
    "soup = BeautifulSoup(post, 'lxml')\n",
    "message = soup.message"
   ]
  },
  {
   "cell_type": "code",
   "execution_count": 11,
   "metadata": {},
   "outputs": [],
   "source": [
    "# print(' '.join(parse_body(message)[0]))\n",
    "# print(message.contents[14])"
   ]
  },
  {
   "cell_type": "code",
   "execution_count": null,
   "metadata": {},
   "outputs": [],
   "source": []
  },
  {
   "cell_type": "code",
   "execution_count": null,
   "metadata": {},
   "outputs": [],
   "source": []
  },
  {
   "cell_type": "code",
   "execution_count": null,
   "metadata": {},
   "outputs": [],
   "source": []
  },
  {
   "cell_type": "code",
   "execution_count": null,
   "metadata": {},
   "outputs": [],
   "source": []
  },
  {
   "cell_type": "code",
   "execution_count": null,
   "metadata": {},
   "outputs": [],
   "source": []
  }
 ],
 "metadata": {
  "kernelspec": {
   "display_name": "Python 3",
   "language": "python",
   "name": "python3"
  },
  "language_info": {
   "codemirror_mode": {
    "name": "ipython",
    "version": 3
   },
   "file_extension": ".py",
   "mimetype": "text/x-python",
   "name": "python",
   "nbconvert_exporter": "python",
   "pygments_lexer": "ipython3",
   "version": "3.6.1"
  }
 },
 "nbformat": 4,
 "nbformat_minor": 2
}
