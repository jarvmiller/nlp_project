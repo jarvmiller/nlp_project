{
 "cells": [
  {
   "cell_type": "code",
   "execution_count": 1,
   "metadata": {},
   "outputs": [],
   "source": [
    "from bs4 import BeautifulSoup\n",
    "import re\n",
    "import numpy as np\n",
    "import pandas as pd\n",
    "import time\n",
    "start = time.time()"
   ]
  },
  {
   "cell_type": "code",
   "execution_count": 2,
   "metadata": {},
   "outputs": [],
   "source": [
    "with open ('training/labels.tsv', 'r') as f:\n",
    "    txt = f.read()"
   ]
  },
  {
   "cell_type": "code",
   "execution_count": 3,
   "metadata": {},
   "outputs": [],
   "source": [
    "range_of_posts = re.findall('[0-9]{6}', txt)\n",
    "# txt"
   ]
  },
  {
   "cell_type": "code",
   "execution_count": 4,
   "metadata": {},
   "outputs": [],
   "source": [
    "post_filenames = [\"training/posts/post-{}.xml\".format(id) for id in range_of_posts]"
   ]
  },
  {
   "cell_type": "code",
   "execution_count": 5,
   "metadata": {},
   "outputs": [],
   "source": [
    "# post_filenames[0:10]"
   ]
  },
  {
   "cell_type": "code",
   "execution_count": null,
   "metadata": {},
   "outputs": [],
   "source": []
  },
  {
   "cell_type": "code",
   "execution_count": 6,
   "metadata": {},
   "outputs": [],
   "source": [
    "def return_elements(filename):\n",
    "    # get board name\n",
    "    with open(filename, 'r') as f:\n",
    "        txt = f.read()\n",
    "    soup = BeautifulSoup(txt, 'lxml')\n",
    "    message = soup.message\n",
    "    board_id = message.board_id.text\n",
    "    post_time = message.post_time.text\n",
    "    subject = message.subject.text\n",
    "    post_id = message.id.text\n",
    "    author_id = message.author.get('href').split('/')[-1]\n",
    "    root_id = message.root.get('href').split('/')[-1]\n",
    "    body_text, emoji_ids = parse_body(message) # what to get out of body\n",
    "    d = {}\n",
    "#     d[author_id] = \n",
    "    return [author_id, board_id, post_time, subject, post_id, root_id, body_text, emoji_ids]\n",
    "\n",
    "def parse_body(message):\n",
    "    counter = 0\n",
    "    for content in message.contents:\n",
    "        if content.name == 'last_edit_time':\n",
    "            break\n",
    "        counter += 1\n",
    "    body = message.contents[counter+1]\n",
    "    body_text = re.findall(\"[a-zA-Z0-9]+(?![^<]*\\>)\", body.string)\n",
    "    body_text = list(filter(lambda a: a != 'nbsp', body_text))\n",
    "    emojis = re.findall('id=\"[a-z]+\"', body.string)\n",
    "    emoji_ids = [emoji.split('\"')[1] for emoji in emojis]\n",
    "    if len(emoji_ids) == 0:\n",
    "        emoji_ids = None\n",
    "    return body_text, emoji_ids\n",
    "        "
   ]
  },
  {
   "cell_type": "code",
   "execution_count": 7,
   "metadata": {},
   "outputs": [],
   "source": [
    "list_of_parsings = [return_elements(filename) for filename in post_filenames]\n",
    "df = pd.DataFrame(list_of_parsings)\n",
    "df.columns = ['author_id', 'board_id', 'post_time', 'subject', 'post_id', 'root_id', 'body_text', 'emoji_ids']"
   ]
  },
  {
   "cell_type": "code",
   "execution_count": 8,
   "metadata": {},
   "outputs": [
    {
     "name": "stdout",
     "output_type": "stream",
     "text": [
      "3.1114749908447266 seconds have passsed\n"
     ]
    }
   ],
   "source": [
    "df.head()\n",
    "end = time.time()\n",
    "# df.to_csv('training_df.csv')\n",
    "print('{} seconds have passsed'.format((end-start)))"
   ]
  },
  {
   "cell_type": "markdown",
   "metadata": {},
   "source": [
    "## making sure the body is parsed correctly\n"
   ]
  },
  {
   "cell_type": "code",
   "execution_count": 9,
   "metadata": {},
   "outputs": [],
   "source": [
    "with open(\"training/posts/post-135294.xml\") as f:\n",
    "    post = f.read()"
   ]
  },
  {
   "cell_type": "code",
   "execution_count": 10,
   "metadata": {},
   "outputs": [],
   "source": [
    "soup = BeautifulSoup(post, 'lxml')\n",
    "message = soup.message"
   ]
  },
  {
   "cell_type": "code",
   "execution_count": 11,
   "metadata": {},
   "outputs": [
    {
     "name": "stdout",
     "output_type": "stream",
     "text": [
      "Thanks Sophie RO sometimes this thread is the only thing keeping me moving forward Sometimes the only reason I am able to see or even notice something has bee on my mind is when I wite it here It seems to be a safe space for me Really the only thing I m doing to try and work through it is trying to manage it with some breathing distraction if possible at work Its hard though because some days I just need to work beside someone to help calm the anxiety where as other times I know I just need to be alone And when I m trying so hard not to let myself go into panic mode it really drains my energy At first thought there isn t anyone I d be feel ok to alk about this with I mean with my colleagues I don t know them well enough to know if that s something I could ask them But also it would kinda feel weird Going back to the GP early I don t know I haven considered it but it s not realy something I want to do but I guess if it came down to it I would Making a thread seems fine but I know it s internal something inside of me i actually blocking me from taking that step In regaurds to calling I set myself a goal I set a time like today I told myself I would grab a recharge for my phone a couple days earlier so I had bonus talk to b able to ring the psych after work Well after work I thought about it I brought up her number but threw my phone onto the passenger seat instead of pressing the call button Like my finger was right about it and before it reached thes scre I gave up So I really don t know how to approach it anymore I don t understand why this is so hard for me I struggle through 90 of things I try but damned if I know why I mean hell I can talk myself out of anything faster than anyone can tell me what they want me to do It s so frustrating Neg I m disliking this whole facebok thing of on this day I keep getting all these posts from like 4 years ago reminding me of an ol friendship reminding me of how I used to be Giving me another thing to feel bad about because I don t think I m fully over that friendship yet Pos I ve tried making new friendships I ve been trying to move on from that friendship for too long now I m finding it hard now that I m seeing them alot at work I m able to take a deep breath and act professionally like I do with other customers Neg Was going to ring the psych today I chickened out again Feeling bad about it I mean if I can t even makethat damn call how can I even expect to get better Pos I got as far as bringing up her number again I m trying to call her continually bringing up her number maybe one day I ll be able to actually press call Neg Been in the wars recently I m either huring myself with the way I move or I m getting injured by the things around me just yesterday I got scratched by a cat being cared of the vac and I managed to get a nail in my foot My muscle in my arm is also sore from lifting the heavy boxes at work Pos I ve applied first aid to my arm muscle I ve been using a muscle rub and heat cold treatments I ll take pain relief nurofen for it tonight\n",
      "\n",
      "    <P>Thanks <a href=\"http://forums.au.reachout.com/t5/user/viewprofilepage/user-id/52\">@Sophie-RO</a>&nbsp;sometimes this thread is the only thing keeping me moving forward... Sometimes the only reason I am able to see or even notice something has bee on my mind is when I wite it here. It seems to be a safe space for me. Really the only thing I'm doing to try and work through it, is trying to manage it with some breathing, distraction if possible at work. Its hard though because some days I just need to work beside someone to help calm the anxiety, where as other times I know I just need to be alone. And when I'm trying so hard not to let myself go into panic mode, it really drains my energy...</P>\n",
      "<P>&nbsp;</P>\n",
      "<P>At first thought, there isn't anyone I'd be feel ok to alk about this with. I mean with my colleagues, I don't know them well enough to know if that's something I could ask them. But also it would kinda feel weird. Going back to the GP early, I don't know, I haven' considered it, but it's not realy something I want to do, but I guess if it came down to it, I would. &nbsp;Making a thread seems fine, but I know it's internal - something inside of me i actually blocking me from taking that step! In regaurds to calling, I set myself a goal, I set a time, like today I told myself I would grab a recharge &nbsp;for my phone a couple days earlier so I had bonus talk to b able to ring the psych after work. Well after work, I thought about it, I brought up her number, but threw my phone onto the passenger seat instead of pressing the call button. Like my finger was right about it, and before it reached thes scre I gave up. So I really don't know how to approach it anymore. I don't understand why this is so hard for me. I struggle through 90% of things I try, but damned if I know why. I mean hell, I can talk myself out of anything faster than anyone can tell me what they want me to do. It's so frustrating.</P>\n",
      "<P>&nbsp;</P>\n",
      "<P>&nbsp;</P>\n",
      "<P>Neg: I'm disliking this whole facebok thing of \"on this day\", I keep getting all these posts from like 4 years ago, reminding me of an ol friendship, reminding me of how I used to be. Giving me another thing to feel bad about, because I don't think I'm fully over that friendship yet. <img class=\"emoticon emoticon-smileysad\" id=\"smileysad\" src=\"http://inspire.i.lithium.com/i/smilies/16x16_smiley-sad.png\" alt=\"Smiley Sad\" title=\"Smiley Sad\" /></P>\n",
      "<P>Pos: I've tried making new friendships, I've been trying to move on from that friendship for too long now. I'm finding it hard now that I'm seeing them alot at work... I'm able to take a deep breath and act professionally like I do with other customers.</P>\n",
      "<P>&nbsp;</P>\n",
      "<P>Neg: Was going to ring the psych today. I chickened out again. Feeling bad about it. I mean if I can't even makethat damn call, how can I even expect to get better.</P>\n",
      "<P>Pos: I got as far as bringing up her number again. I'm trying to call her, continually bringing up her number, maybe one day I'll be able to actually press call.</P>\n",
      "<P>&nbsp;</P>\n",
      "<P>Neg: Been in the wars recently, I'm either huring myself with the way I move, or I'm getting injured by the things around me, just yesterday I got scratched by a cat being cared of the vac, and I managed to get a nail in my foot! My muscle in my arm is also sore from lifting the heavy boxes at work :/</P>\n",
      "<P>Pos: I've applied first aid to my arm/muscle, I've been using a muscle rub and heat/cold treatments. I'll take pain relief/nurofen for it tonight.</P>\n",
      "    \n"
     ]
    }
   ],
   "source": [
    "print(' '.join(parse_body(message)[0]))\n",
    "print(message.contents[14])"
   ]
  },
  {
   "cell_type": "code",
   "execution_count": null,
   "metadata": {},
   "outputs": [],
   "source": []
  },
  {
   "cell_type": "code",
   "execution_count": null,
   "metadata": {},
   "outputs": [],
   "source": []
  },
  {
   "cell_type": "code",
   "execution_count": null,
   "metadata": {},
   "outputs": [],
   "source": []
  },
  {
   "cell_type": "code",
   "execution_count": null,
   "metadata": {},
   "outputs": [],
   "source": []
  },
  {
   "cell_type": "code",
   "execution_count": null,
   "metadata": {},
   "outputs": [],
   "source": []
  }
 ],
 "metadata": {
  "kernelspec": {
   "display_name": "Python 3",
   "language": "python",
   "name": "python3"
  },
  "language_info": {
   "codemirror_mode": {
    "name": "ipython",
    "version": 3
   },
   "file_extension": ".py",
   "mimetype": "text/x-python",
   "name": "python",
   "nbconvert_exporter": "python",
   "pygments_lexer": "ipython3",
   "version": "3.6.1"
  }
 },
 "nbformat": 4,
 "nbformat_minor": 2
}
